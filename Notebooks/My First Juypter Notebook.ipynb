{
 "cells": [
  {
   "cell_type": "code",
   "execution_count": 2,
   "id": "c54115a2",
   "metadata": {},
   "outputs": [
    {
     "name": "stdout",
     "output_type": "stream",
     "text": [
      "Hello World\n"
     ]
    }
   ],
   "source": [
    "print (\"Hello World\")"
   ]
  },
  {
   "cell_type": "code",
   "execution_count": 5,
   "id": "a5ab8ac5",
   "metadata": {},
   "outputs": [
    {
     "name": "stdout",
     "output_type": "stream",
     "text": [
      "insert a cell above by clicking a\n"
     ]
    }
   ],
   "source": [
    "print (\"insert a cell above by clicking a\")"
   ]
  },
  {
   "cell_type": "code",
   "execution_count": 4,
   "id": "204109c7",
   "metadata": {},
   "outputs": [
    {
     "name": "stdout",
     "output_type": "stream",
     "text": [
      "Hello World Again!\n"
     ]
    }
   ],
   "source": [
    "print (\"Hello World Again!\")"
   ]
  },
  {
   "cell_type": "code",
   "execution_count": 6,
   "id": "1eff250f",
   "metadata": {},
   "outputs": [
    {
     "name": "stdout",
     "output_type": "stream",
     "text": [
      "insert a cell below by clicking b\n"
     ]
    }
   ],
   "source": [
    "print (\"insert a cell below by clicking b\")"
   ]
  }
 ],
 "metadata": {
  "kernelspec": {
   "display_name": "Python 3 (ipykernel)",
   "language": "python",
   "name": "python3"
  },
  "language_info": {
   "codemirror_mode": {
    "name": "ipython",
    "version": 3
   },
   "file_extension": ".py",
   "mimetype": "text/x-python",
   "name": "python",
   "nbconvert_exporter": "python",
   "pygments_lexer": "ipython3",
   "version": "3.11.5"
  }
 },
 "nbformat": 4,
 "nbformat_minor": 5
}
